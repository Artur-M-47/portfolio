{
 "cells": [
  {
   "cell_type": "markdown",
   "id": "1fa520b9-cad9-4a7f-aa58-d137c7e87754",
   "metadata": {},
   "source": [
    "**Anomaly 1 (RTT)** introduced from  2024-03-15 14:00:00  to  2024-03-15 16:30:00  **anomaly count 31**  \n",
    "**Anomaly 2 (Success Rate)** introduced from  2024-06-01 03:00:00  to  2024-06-03 12:00:00  **anomaly count  685**"
   ]
  },
  {
   "cell_type": "code",
   "execution_count": 1,
   "id": "a219335c-123c-4b10-8d64-c55c7d36ea0f",
   "metadata": {},
   "outputs": [
    {
     "name": "stdout",
     "output_type": "stream",
     "text": [
      "Downloaded data for ML analysis:\n",
      "                        RTT_ms  Success_Rate\n",
      "Timestamp                                   \n",
      "2024-01-01 00:00:00  51.646810     99.956094\n",
      "2024-01-01 00:05:00  54.196656     99.929200\n",
      "2024-01-01 00:10:00  45.646593     99.965009\n",
      "2024-01-01 00:15:00  51.692967     99.968811\n",
      "2024-01-01 00:20:00  48.967351     99.910979\n"
     ]
    }
   ],
   "source": [
    "import pandas as pd\n",
    "import numpy as np\n",
    "import matplotlib.pyplot as plt\n",
    "from sklearn.ensemble import IsolationForest\n",
    "from sklearn.preprocessing import MinMaxScaler\n",
    "\n",
    "input_file_name = 'RTT_SR_with_anomalys.csv'\n",
    "df = pd.read_csv(input_file_name, parse_dates=['Timestamp'], index_col='Timestamp')\n",
    "\n",
    "print(\"Downloaded data for ML analysis:\")\n",
    "print(df.head())"
   ]
  },
  {
   "cell_type": "markdown",
   "id": "297556f3-6132-478d-a72b-121a15a3659a",
   "metadata": {},
   "source": [
    "**SUCCESS RATE MODEL**"
   ]
  },
  {
   "cell_type": "code",
   "execution_count": 2,
   "id": "d0c201ed-0a17-4416-9189-5fccb80f8fcc",
   "metadata": {},
   "outputs": [
    {
     "name": "stdout",
     "output_type": "stream",
     "text": [
      "                     Success_Rate_scaled\n",
      "Timestamp                               \n",
      "2024-01-01 00:00:00             0.928574\n",
      "2024-01-01 00:05:00             0.884823\n",
      "2024-01-01 00:10:00             0.943077\n",
      "2024-01-01 00:15:00             0.949262\n",
      "2024-01-01 00:20:00             0.855181\n",
      "...                                  ...\n",
      "2024-12-31 23:40:00             0.978232\n",
      "2024-12-31 23:45:00             0.914238\n",
      "2024-12-31 23:50:00             0.874920\n",
      "2024-12-31 23:55:00             0.939248\n",
      "2025-01-01 00:00:00             0.916581\n",
      "\n",
      "[105409 rows x 1 columns]\n",
      "Contamination 0.001: 49 anomalies\n",
      "Contamination 0.002: 175 anomalies\n",
      "Contamination 0.003: 238 anomalies\n",
      "Contamination 0.004: 325 anomalies\n",
      "Contamination 0.005: 458 anomalies\n",
      "Contamination 0.006: 571 anomalies\n",
      "Contamination 0.0065: 685 anomalies\n",
      "Contamination 0.007: 736 anomalies\n"
     ]
    }
   ],
   "source": [
    "scaler = MinMaxScaler()\n",
    "\n",
    "df['Success_Rate_scaled'] = scaler.fit_transform(df[['Success_Rate']])\n",
    "X_scaled = df[['Success_Rate_scaled']] \n",
    "print(X_scaled)\n",
    "\n",
    "for c in [0.001, 0.002, 0.003, 0.004, 0.005,0.006, 0.0065,0.007]:\n",
    "    model_sr_scaled = IsolationForest(contamination=c, random_state=42)\n",
    "    model_sr_scaled.fit(X_scaled)\n",
    "    flags = model_sr_scaled.predict(X_scaled)\n",
    "    print(f\"Contamination {c}: {np.sum(flags == -1)} anomalies\")"
   ]
  },
  {
   "cell_type": "markdown",
   "id": "1b0259d7-e30a-4be8-a560-004083be3846",
   "metadata": {},
   "source": [
    "The value **contamination = 0.0065** yields exactly the expected number of anomalies. Now I’ll check whether the anomaly was detected in the correct location."
   ]
  },
  {
   "cell_type": "code",
   "execution_count": 3,
   "id": "33935973-1bbb-49a9-bf99-8c2c2a85039b",
   "metadata": {},
   "outputs": [],
   "source": [
    "c = 0.0065\n",
    "model_sr_scaled = IsolationForest(contamination=c, random_state=42)\n",
    "model_sr_scaled.fit(X_scaled)\n",
    "# Prediction\n",
    "df['Anomaly_Score_SR_scaled'] = model_sr_scaled.decision_function(X_scaled)\n",
    "df['Anomaly_Flag_SR_scaled'] = model_sr_scaled.predict(X_scaled)  # -1 = anomaly, 1 = normal"
   ]
  },
  {
   "cell_type": "markdown",
   "id": "d656f49b-1360-4295-8918-b3f6a8476900",
   "metadata": {},
   "source": [
    "**PRINT SUMARY MODEL SUCCESS RATE**"
   ]
  },
  {
   "cell_type": "code",
   "execution_count": 4,
   "id": "70f4c81b-e781-4213-9f3d-3f0f8c817f70",
   "metadata": {},
   "outputs": [
    {
     "name": "stdout",
     "output_type": "stream",
     "text": [
      "wszystkich rekordów  105409\n",
      "Number of detected anomalies (SR): 685\n",
      "Anomaly_Flag_SR_scaled\n",
      " 1    104724\n",
      "-1       685\n",
      "Name: count, dtype: int64\n"
     ]
    }
   ],
   "source": [
    "print('wszystkich rekordów ',len(df['Anomaly_Score_SR_scaled']))\n",
    "count_anomalies_scaled = (df['Anomaly_Flag_SR_scaled'] == -1).sum()\n",
    "print(\"Number of detected anomalies (SR):\", count_anomalies_scaled)\n",
    "print(df['Anomaly_Flag_SR_scaled'].value_counts())"
   ]
  },
  {
   "cell_type": "code",
   "execution_count": 5,
   "id": "5899c93a-8248-4299-a8eb-2b1de349d90c",
   "metadata": {},
   "outputs": [
    {
     "name": "stdout",
     "output_type": "stream",
     "text": [
      "                        RTT_ms  Success_Rate  Success_Rate_scaled  \\\n",
      "Timestamp                                                           \n",
      "2024-06-01 03:00:00  32.482002     99.427437             0.068556   \n",
      "2024-06-01 03:05:00  31.297303     99.480359             0.154649   \n",
      "2024-06-01 03:10:00  32.686549     99.442075             0.092369   \n",
      "2024-06-01 03:15:00  30.687033     99.479065             0.152544   \n",
      "2024-06-01 03:20:00  25.702890     99.445784             0.098403   \n",
      "...                        ...           ...                  ...   \n",
      "2024-06-03 11:40:00  28.370388     99.458774             0.119535   \n",
      "2024-06-03 11:45:00  30.430585     99.442758             0.093482   \n",
      "2024-06-03 11:50:00  28.833855     99.442858             0.093643   \n",
      "2024-06-03 11:55:00  32.033361     99.459933             0.121421   \n",
      "2024-06-03 12:00:00  32.140048     99.432635             0.077013   \n",
      "\n",
      "                     Anomaly_Score_SR_scaled  Anomaly_Flag_SR_scaled  \n",
      "Timestamp                                                             \n",
      "2024-06-01 03:00:00                -0.121017                      -1  \n",
      "2024-06-01 03:05:00                -0.118110                      -1  \n",
      "2024-06-01 03:10:00                -0.121017                      -1  \n",
      "2024-06-01 03:15:00                -0.118691                      -1  \n",
      "2024-06-01 03:20:00                -0.119853                      -1  \n",
      "...                                      ...                     ...  \n",
      "2024-06-03 11:40:00                -0.118110                      -1  \n",
      "2024-06-03 11:45:00                -0.121017                      -1  \n",
      "2024-06-03 11:50:00                -0.121017                      -1  \n",
      "2024-06-03 11:55:00                -0.117530                      -1  \n",
      "2024-06-03 12:00:00                -0.120435                      -1  \n",
      "\n",
      "[685 rows x 5 columns]\n"
     ]
    }
   ],
   "source": [
    "print(df[df['Anomaly_Flag_SR_scaled']==-1])"
   ]
  },
  {
   "cell_type": "markdown",
   "id": "0d3e5da9-965a-4062-a717-2e4faf4bf2fe",
   "metadata": {},
   "source": [
    "**Wynik się dokładnie pokrywa z anomalią**"
   ]
  },
  {
   "cell_type": "code",
   "execution_count": null,
   "id": "eea52c51-7573-41d9-b30f-48f39b27e96c",
   "metadata": {},
   "outputs": [],
   "source": [
    "# Visualization of Results\n",
    "\n",
    "anomalies = df.loc[df['Anomaly_Flag_SR_scaled'] == -1]\n",
    "\n",
    "plt.figure(figsize=(15, 6))\n",
    "plt.plot(df.index, df['Success_Rate'], label='Success_Rate', alpha=0.8)\n",
    "\n",
    "# Plotting anomalies\n",
    "plt.scatter(anomalies.index, anomalies['Success_Rate'], \n",
    "            color='red', \n",
    "            label='Anomaly Detected', \n",
    "            s=20) \n",
    "\n",
    "plt.title(f'SUCCESS RATE Anomaly Detection using Isolation Forest (Contamination: {model_sr_scaled.contamination})')\n",
    "plt.xlabel('Timestamp')\n",
    "plt.ylabel('Success_Rate %')\n",
    "plt.legend()\n",
    "plt.show()\n",
    "\n",
    "print(\"Number of detected anomalies:\", len(anomalies))\n"
   ]
  },
  {
   "cell_type": "code",
   "execution_count": null,
   "id": "8c84f9b7-7ca7-4190-b331-b244fbac6d37",
   "metadata": {},
   "outputs": [],
   "source": [
    "scaler = MinMaxScaler()\n",
    "\n",
    "df['RTT_ms_scaled'] = scaler.fit_transform(df[['RTT_ms']])\n",
    "X_scaled = df[['RTT_ms_scaled']] \n",
    "print(X_scaled)\n",
    "\n",
    "for c in [0.000444, 0.000445,0.000446, 0.00045]:\n",
    "    model_rtt_scaled = IsolationForest(contamination=c, random_state=42)\n",
    "    model_rtt_scaled.fit(X_scaled)\n",
    "    flags = model_rtt_scaled.predict(X_scaled)\n",
    "    print(f\"Contamination {c}: {np.sum(flags == -1)} anomalies\")"
   ]
  },
  {
   "cell_type": "code",
   "execution_count": null,
   "id": "f11c47fe-dafc-402f-915e-b9595c71e53e",
   "metadata": {},
   "outputs": [],
   "source": [
    "c = 0.00045\n",
    "c = 0.00044\n",
    "model_rtt_scaled = IsolationForest(contamination=c, random_state=42)\n",
    "model_rtt_scaled.fit(X_scaled)\n",
    "# Prediction\n",
    "df['Anomaly_Score_RTT_scaled'] = model_rtt_scaled.decision_function(X_scaled)\n",
    "df['Anomaly_Flag_RTT_scaled'] = model_rtt_scaled.predict(X_scaled)  # -1 = anomaly, 1 = normal"
   ]
  },
  {
   "cell_type": "code",
   "execution_count": null,
   "id": "0887d674-0710-4f5b-8b30-1cf6aa688074",
   "metadata": {},
   "outputs": [],
   "source": [
    "print('all rows ',len(df['Anomaly_Score_RTT_scaled']))\n",
    "count_anomalies_scaled = (df['Anomaly_Flag_RTT_scaled'] == -1).sum()\n",
    "print(\"Number of detected anomalies (RTT):\", count_anomalies_scaled)\n",
    "print(df['Anomaly_Flag_RTT_scaled'].value_counts())"
   ]
  },
  {
   "cell_type": "code",
   "execution_count": null,
   "id": "4ec4a362-d8cc-4a6a-8761-c2569e22bf95",
   "metadata": {},
   "outputs": [],
   "source": [
    "print(df[df['Anomaly_Flag_RTT_scaled']==-1])"
   ]
  },
  {
   "cell_type": "code",
   "execution_count": null,
   "id": "7056389b-e107-4895-906e-c9a628a59ae6",
   "metadata": {},
   "outputs": [],
   "source": [
    "# Visualization of Results\n",
    "anomalies = df.loc[df['Anomaly_Flag_RTT_scaled'] == -1]\n",
    "\n",
    "plt.figure(figsize=(15, 6))\n",
    "plt.plot(df.index, df['RTT_ms'], label='RTT_ms', alpha=0.8)\n",
    "\n",
    "# Plotting anomalies\n",
    "plt.scatter(anomalies.index, anomalies['RTT_ms'], \n",
    "            color='red', \n",
    "            label='Anomaly Detected', \n",
    "            s=20)\n",
    "contamination = c\n",
    "plt.title(f'RTT_ms (Round-Trip Time) Anomaly Detection using Isolation Forest (Contamination: {model_rtt_scaled.contamination})')\n",
    "plt.xlabel('Timestamp')\n",
    "plt.ylabel('RTT_ms')\n",
    "plt.legend()\n",
    "plt.show()\n",
    "\n",
    "print(\"Number of detected anomalies:\", len(anomalies))"
   ]
  },
  {
   "cell_type": "code",
   "execution_count": null,
   "id": "93397c7d-0148-489f-a245-4686e9872fef",
   "metadata": {},
   "outputs": [],
   "source": []
  }
 ],
 "metadata": {
  "kernelspec": {
   "display_name": "energy-kpi-env",
   "language": "python",
   "name": "energy-kpi-env"
  },
  "language_info": {
   "codemirror_mode": {
    "name": "ipython",
    "version": 3
   },
   "file_extension": ".py",
   "mimetype": "text/x-python",
   "name": "python",
   "nbconvert_exporter": "python",
   "pygments_lexer": "ipython3",
   "version": "3.10.19"
  }
 },
 "nbformat": 4,
 "nbformat_minor": 5
}
