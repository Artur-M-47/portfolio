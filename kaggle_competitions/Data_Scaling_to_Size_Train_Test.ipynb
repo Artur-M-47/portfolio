{
 "cells": [
  {
   "cell_type": "code",
   "execution_count": null,
   "id": "86428a74-865c-442a-875d-603f744f4242",
   "metadata": {},
   "outputs": [],
   "source": [
    "import pandas as pd\n",
    "import numpy as np\n",
    "\n",
    "\n"
   ]
  },
  {
   "cell_type": "markdown",
   "id": "ebf75e05-bdc2-47c5-ab35-738786469ee6",
   "metadata": {},
   "source": [
    "## Load Data"
   ]
  },
  {
   "cell_type": "code",
   "execution_count": null,
   "id": "58d63add-ac3c-4056-bdc5-240b3685a3c9",
   "metadata": {},
   "outputs": [],
   "source": [
    "import os\n",
    "# Data Paths\n",
    "DATA_SUBFOLDER = 'playground-series-s4e8'\n",
    "TRAIN_FILE_PATH = os.path.join(DATA_SUBFOLDER, \"train.csv\")\n",
    "TEST_FILE_PATH = os.path.join(DATA_SUBFOLDER, \"test.csv\")\n",
    "\n",
    "try:\n",
    "    df_test_received  = pd.read_csv(TEST_FILE_PATH)\n",
    "    df_train_received = pd.read_csv(TRAIN_FILE_PATH)\n",
    "except FileNotFoundError:\n",
    "    print(\"Error: train.csv or test.csv not found. Please ensure they are in the correct path.\")\n",
    "    raise # Stop execution if files are not found\n",
    "\n",
    "\n"
   ]
  },
  {
   "cell_type": "markdown",
   "id": "b8fbc58b-4eed-4b52-a336-c843ceca2dd9",
   "metadata": {},
   "source": [
    "## Data Split to make them < 100MB"
   ]
  },
  {
   "cell_type": "markdown",
   "id": "03e0b38f-ef80-451e-841d-ec3db4f48dc2",
   "metadata": {},
   "source": [
    "###  Geting File Sizes"
   ]
  },
  {
   "cell_type": "code",
   "execution_count": null,
   "id": "a990925d-ba73-4677-9dcf-0eb415612c20",
   "metadata": {},
   "outputs": [],
   "source": [
    "colective_size = 95\n",
    "\n",
    "# Getting Files Sizes\n",
    "train_size_bytes = os.path.getsize(TRAIN_FILE_PATH)\n",
    "test_size_bytes = os.path.getsize(TEST_FILE_PATH)\n",
    "\n",
    "# Getting Row count\n",
    "rows_in_train = len(df_train_received)\n",
    "rows_in_test = len(df_test_received)\n",
    "\n",
    "# MB Conversion\n",
    "train_size_mb = train_size_bytes / (1024 * 1024)\n",
    "test_size_mb = test_size_bytes / (1024 * 1024)\n",
    "\n",
    "split_proporcion = train_size_mb/(test_size_mb + train_size_mb)\n",
    "\n",
    "new_size_target_train  = split_proporcion * colective_size\n",
    "new_size_target_test = colective_size - new_size_target_train\n",
    "\n",
    "new_rows_ammount_train = int((new_size_target_train * rows_in_train)/train_size_mb)\n",
    "new_rows_ammount_test = int((new_size_target_test * rows_in_test)/test_size_mb)\n",
    "\n",
    "\n",
    "\n",
    "print(f\"Rozmiar train.csv: {train_size_mb:.2f} MB rows {rows_in_train} new amount of lines { new_rows_ammount_train}\")\n",
    "print(f\"Rozmiar test.csv: {test_size_mb:.2f} MB rows {rows_in_test} new amount of lines { new_rows_ammount_test}\")\n",
    "\n",
    "\n"
   ]
  },
  {
   "cell_type": "markdown",
   "id": "4c9afaeb-bd03-47fd-9f78-6cbd9fc2eaa4",
   "metadata": {},
   "source": [
    "Wyliczenie proporcji wierszy by uzyskać 99 MB rozmiar pliku"
   ]
  },
  {
   "cell_type": "code",
   "execution_count": null,
   "id": "0e7cd190-1c09-4183-8084-9912777ba172",
   "metadata": {},
   "outputs": [],
   "source": [
    "# Train target column\n",
    "TARGET_COLUMN = 'class'\n",
    "\n",
    "if TARGET_COLUMN in df_train_received.columns:\n",
    "    print('TARGET_COLUMN found')\n",
    "else:\n",
    "    print('ERROR !!! TARGET_COLUMN not found !!!\\n', df_train_received.columns)\n"
   ]
  },
  {
   "cell_type": "markdown",
   "id": "de663f8b-c6a3-43f2-a91f-eb68fc3333ba",
   "metadata": {},
   "source": [
    "df_train_reduced, _ = train_test_split(\n",
    "    df_train_received,\n",
    "    train_size=50000,\n",
    "    stratify=df_train_received[\"target\"],\n",
    "    random_state=42\n",
    ")\n",
    "df_train_received: pełny DataFrame z wszystkimi kolumnami\n",
    "train_size=50000: wybierasz 50 tys. wierszy\n",
    "stratify=...: zachowujesz proporcje klas w kolumnie \"target\"\n",
    "df_train_reduced: zawiera wszystkie kolumny, tylko mniej wierszy\n",
    "_: pozostałe wiersze, których nie używasz"
   ]
  },
  {
   "cell_type": "code",
   "execution_count": null,
   "id": "ac225cf9-f447-4972-9ab9-4bdd23b48767",
   "metadata": {},
   "outputs": [],
   "source": [
    "NEW_DATA_SUBFOLDER = 'DATA_reduced_to_size_under_100_MB'\n",
    "os.makedirs(NEW_DATA_SUBFOLDER, exist_ok=True)\n",
    "NEW_TRAIN_FILE_PATH = os.path.join(NEW_DATA_SUBFOLDER, \"train.csv\")\n",
    "NEW_TEST_FILE_PATH = os.path.join (NEW_DATA_SUBFOLDER, \"test.csv\")\n",
    "\n",
    "from sklearn.model_selection import train_test_split\n",
    "\n",
    "# Zmniejszamy zbiór do 50 tys. wierszy, zachowując proporcje targetu\n",
    "df_train_reduced, _ = train_test_split(\n",
    "    df_train_received,\n",
    "    train_size= new_rows_ammount_train,\n",
    "    stratify=df_train_received[TARGET_COLUMN],\n",
    "    random_state=42\n",
    ")\n",
    "\n",
    "# Zapisz do nowego pliku\n",
    "df_train_reduced.to_csv(NEW_TRAIN_FILE_PATH, index=False)\n",
    "\n",
    "# Ustal liczbę wierszy , np. 30 tys. new_rows_ammount_test\n",
    "\n",
    "\n",
    "# Losowe pobranie wierszy z testu\n",
    "df_test_reduced = df_test_received.sample(n=new_rows_ammount_test, random_state=42)\n",
    "\n",
    "# Zapisz do nowego pliku\n",
    "df_test_reduced.to_csv(NEW_TEST_FILE_PATH, index=False)\n",
    "\n",
    "\n",
    "# Getting Files Sizes\n",
    "train_size_bytes = os.path.getsize(NEW_TRAIN_FILE_PATH)\n",
    "test_size_bytes = os.path.getsize(NEW_TEST_FILE_PATH)\n",
    "\n",
    "# Getting Row count\n",
    "rows_in_train = len(df_train_received)\n",
    "rows_in_test = len(df_test_received)\n",
    "\n",
    "# MB Conversion\n",
    "train_size_mb = train_size_bytes / (1024 * 1024)\n",
    "test_size_mb = test_size_bytes / (1024 * 1024)\n",
    "\n",
    "colective_size =train_size_mb + test_size_mb\n",
    "print(f\"Rozmiar train_reduced.csv: {train_size_mb:.2f} MB rows {rows_in_train}\")\n",
    "print(f\"Rozmiar test_reduced.csv: {test_size_mb:.2f} MB rows {rows_in_test}\")\n",
    "print(f\"Rozmiar SUM: {colective_size:.2f}\")"
   ]
  },
  {
   "cell_type": "code",
   "execution_count": null,
   "id": "8f2f77f4-60a2-4846-8528-0a63ab005add",
   "metadata": {},
   "outputs": [],
   "source": []
  }
 ],
 "metadata": {
  "kernelspec": {
   "display_name": "Python 3 (ipykernel)",
   "language": "python",
   "name": "python3"
  },
  "language_info": {
   "codemirror_mode": {
    "name": "ipython",
    "version": 3
   },
   "file_extension": ".py",
   "mimetype": "text/x-python",
   "name": "python",
   "nbconvert_exporter": "python",
   "pygments_lexer": "ipython3",
   "version": "3.11.5"
  }
 },
 "nbformat": 4,
 "nbformat_minor": 5
}
